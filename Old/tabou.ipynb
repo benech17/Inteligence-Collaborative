{
 "cells": [
  {
   "cell_type": "code",
   "execution_count": 3,
   "metadata": {
    "execution": {
     "iopub.execute_input": "2021-03-22T17:33:40.866493Z",
     "iopub.status.busy": "2021-03-22T17:33:40.865558Z",
     "iopub.status.idle": "2021-03-22T17:33:40.869347Z",
     "shell.execute_reply": "2021-03-22T17:33:40.868622Z"
    },
    "id": "ePWIqkqfxuRM",
    "papermill": {
     "duration": 0.020688,
     "end_time": "2021-03-22T17:33:40.869560",
     "exception": false,
     "start_time": "2021-03-22T17:33:40.848872",
     "status": "completed"
    },
    "tags": []
   },
   "outputs": [],
   "source": [
    "import numpy as np\n",
    "import matplotlib.pyplot as plt\n",
    "import itertools as it\n",
    "import math\n",
    "\n",
    "#nombre des clients\n",
    "n = 9\n",
    "\n",
    "#capacité du vehicule\n",
    "Q = 20\n",
    "\n",
    "#list des clients\n",
    "N = [i for i in range(1,n+1)]\n",
    "\n",
    "#nombre des villes (ou nombre des vertices)\n",
    "V=[0]+N\n",
    "\n",
    "#matrice coûts\n",
    "\n",
    "C = np.asarray([[0, 217, 690, 581, 749, 894, 1063, 938, 1065, 1000],\n",
    " [217, 0, 462, 409, 537, 677, 845, 711, 838, 773],\n",
    " [690, 462, 0, 254, 137, 537, 450, 251, 378, 313],   \n",
    " [581, 409, 254, 0, 215, 706, 698, 499, 626, 561],\n",
    " [749, 537, 137, 215, 0, 646, 559, 359, 487, 421],\n",
    " [894, 677, 537, 706, 646, 0, 206, 290, 469, 403],   \n",
    " [1063, 845, 450, 698, 559, 206, 0, 203, 382,317],   \n",
    " [938, 711, 251, 499, 359, 290, 203, 0, 187, 122],   \n",
    " [1065, 838, 378, 626, 487, 469, 382, 187, 0, 66],\n",
    " [1000, 773, 313, 561, 421, 403, 317, 122, 66, 0],   \n",
    "])"
   ]
  },
  {
   "cell_type": "markdown",
   "metadata": {
    "id": "reZ2VmNbxuRW",
    "papermill": {
     "duration": 0.010596,
     "end_time": "2021-03-22T17:33:40.925383",
     "exception": false,
     "start_time": "2021-03-22T17:33:40.914787",
     "status": "completed"
    },
    "tags": []
   },
   "source": [
    "# List de demande\n",
    "\n",
    "* 0. Lille: dépôt\n",
    "* 1. Paris: 2\n",
    "* 2. Lyon:5\n",
    "* 3. Besançon: 5\n",
    "* 4. Annecy: 5\n",
    "* 5. Toulouse: 5\n",
    "* 6. Perpignan: 5\n",
    "* 7. Nîmes: 5\n",
    "* 8. Toulon: 5\n",
    "* 9. Marseille: 10"
   ]
  },
  {
   "cell_type": "markdown",
   "metadata": {
    "id": "UIU5rpEIxuRZ",
    "papermill": {
     "duration": 0.010682,
     "end_time": "2021-03-22T17:33:40.978020",
     "exception": false,
     "start_time": "2021-03-22T17:33:40.967338",
     "status": "completed"
    },
    "tags": []
   },
   "source": [
    "**Fonctionnes**"
   ]
  },
  {
   "cell_type": "code",
   "execution_count": 6,
   "metadata": {
    "execution": {
     "iopub.execute_input": "2021-03-22T17:33:41.008681Z",
     "iopub.status.busy": "2021-03-22T17:33:41.008008Z",
     "iopub.status.idle": "2021-03-22T17:33:41.010319Z",
     "shell.execute_reply": "2021-03-22T17:33:41.010804Z"
    },
    "id": "cHHrv4K2xuRa",
    "papermill": {
     "duration": 0.019711,
     "end_time": "2021-03-22T17:33:41.011011",
     "exception": false,
     "start_time": "2021-03-22T17:33:40.991300",
     "status": "completed"
    },
    "tags": []
   },
   "outputs": [],
   "source": [
    "#list de demande\n",
    "q=[2,5,5,5,5,5,5,5,10]\n",
    "\n",
    "#demande ordenée parmi les solutions\n",
    "\n",
    "def ordre(solu,demande):\n",
    "    newq=[];\n",
    "    newq.clear();\n",
    "    for i in range(len(solu)):\n",
    "        for j in range(len(demande)):\n",
    "            if j+1==solu[i]:\n",
    "                newq.append(demande[j])\n",
    "    return newq\n",
    "\n",
    "#definir les routes\n",
    "\n",
    "def routes(solu,dmd):\n",
    "    soma=0;\n",
    "    tabu=[];\n",
    "    R=len(solu)\n",
    "    i=0\n",
    "    while i<R:\n",
    "        soma=soma+dmd[i]\n",
    "        if soma<=Q:\n",
    "            tabu.append(solu[i])\n",
    "            i=i+1\n",
    "        else:\n",
    "            tabu.append(0)\n",
    "            soma=0\n",
    "    tabu.append(0)\n",
    "    tabu.insert(0,0)\n",
    "    return tabu\n",
    "\n",
    "# mutations pour trouver des voisins\n",
    "\n",
    "def mutations(solu):\n",
    "    \n",
    "    a = np.random.randint(0,len(solu)-1)\n",
    "    b = np.random.randint(0,len(solu)-1)\n",
    "    while a == b :\n",
    "        a = np.random.randint(0,len(solu)-1)\n",
    "        b = np.random.randint(0,len(solu)-1)\n",
    "    y = solu[b]\n",
    "    solu[b] = solu[a]\n",
    "    solu[a] = y\n",
    "    \n",
    "    return(solu)\n",
    "\n",
    "\n",
    "#Calcul des couts\n",
    "\n",
    "def couts(solu):\n",
    "    cout=0;\n",
    "    for i in range(len(solu)):\n",
    "        if i<len(solu)-1:\n",
    "            cc=C[solu[i],solu[i+1]]\n",
    "            cout=cout+cc\n",
    "    return cout\n",
    "\n",
    "\n",
    "def algo_tabou():\n",
    "    couti=100000000000001 #cout final initial\n",
    "    ite=0; #compte du nombre d'iterations\n",
    "    cfinal=[]\n",
    "    tabou = []\n",
    "    sol = [i for i in range(1,n+1)]\n",
    "    n1= 50\n",
    "    N1=[]\n",
    "    cle = 0\n",
    "    solf=sol.copy()\n",
    "    count = 0\n",
    "    \n",
    "    \n",
    "    for i in range(0,100): # pour améliorer la complexité\n",
    "        N1 = [solf]\n",
    "        if count > 10 :\n",
    "            n1 = 200\n",
    "\n",
    "            \n",
    "        for k in range(1,n1):\n",
    "            elt = N1[-1]\n",
    "            N1.append(mutations(elt.copy()))\n",
    "        j=0\n",
    "        cle = N1[0]\n",
    "        while j<len(N1):\n",
    "            if couts(cle) > couts(N1[j]) and N1[j] not in tabou:\n",
    "                cle = N1[j] \n",
    "            j+=1\n",
    "        if couts(cle) < couts(solf):\n",
    "            tabou.append(solf)\n",
    "            solf = cle\n",
    "            count = 0\n",
    "            n1 = 50\n",
    "        else:\n",
    "            count += 1\n",
    "            tabou.append(cle)\n",
    "        couti = couts(solf)\n",
    "        cfinal.append(couti)\n",
    "        \n",
    "    return(solf,couti,cfinal,tabou)\n",
    "        \n",
    "        "
   ]
  },
  {
   "cell_type": "code",
   "execution_count": 7,
   "metadata": {
    "colab": {
     "base_uri": "https://localhost:8080/",
     "height": 347
    },
    "execution": {
     "iopub.execute_input": "2021-03-22T17:33:41.036129Z",
     "iopub.status.busy": "2021-03-22T17:33:41.035366Z",
     "iopub.status.idle": "2021-03-22T17:33:41.042385Z",
     "shell.execute_reply": "2021-03-22T17:33:41.041810Z"
    },
    "id": "2ubsAsoFxuRb",
    "outputId": "f1a67c6b-f18c-4c43-81c8-d831f583135a",
    "papermill": {
     "duration": 0.020412,
     "end_time": "2021-03-22T17:33:41.042540",
     "exception": false,
     "start_time": "2021-03-22T17:33:41.022128",
     "status": "completed"
    },
    "scrolled": false,
    "tags": []
   },
   "outputs": [
    {
     "name": "stdout",
     "output_type": "stream",
     "text": [
      "meilleur chemin trouvé:  [1, 3, 4, 2, 7, 5, 6, 8, 9]\n",
      "coût trouvé:  1956\n",
      "tabou: [[1, 2, 3, 4, 5, 6, 7, 8, 9], [1, 2, 3, 4, 5, 6, 7, 8, 9], [1, 3, 2, 4, 5, 6, 7, 8, 9], [1, 3, 2, 4, 5, 6, 7, 8, 9], [1, 3, 2, 4, 5, 6, 7, 8, 9], [1, 3, 2, 4, 5, 6, 7, 8, 9], [1, 3, 2, 4, 5, 6, 7, 8, 9], [1, 3, 2, 4, 5, 6, 7, 8, 9], [1, 3, 2, 4, 5, 6, 7, 8, 9], [1, 3, 2, 4, 7, 6, 5, 8, 9], [1, 3, 2, 4, 7, 6, 5, 8, 9], [1, 3, 2, 4, 7, 6, 5, 8, 9], [1, 3, 2, 4, 7, 6, 5, 8, 9], [1, 3, 2, 4, 7, 6, 5, 8, 9], [1, 3, 2, 4, 7, 6, 5, 8, 9], [1, 3, 2, 4, 7, 6, 5, 8, 9], [1, 3, 2, 4, 7, 6, 5, 8, 9], [1, 3, 2, 4, 7, 6, 5, 8, 9], [1, 3, 2, 4, 7, 6, 5, 8, 9], [1, 3, 2, 4, 7, 6, 5, 8, 9], [1, 3, 2, 4, 7, 6, 5, 8, 9], [1, 3, 2, 4, 7, 6, 5, 8, 9], [1, 3, 2, 4, 7, 6, 5, 8, 9], [1, 3, 2, 4, 7, 6, 5, 8, 9], [1, 3, 2, 4, 7, 6, 5, 8, 9], [1, 3, 2, 4, 7, 6, 5, 8, 9], [1, 3, 2, 4, 7, 6, 5, 8, 9], [1, 3, 2, 4, 7, 6, 5, 8, 9], [1, 3, 2, 4, 7, 6, 5, 8, 9], [1, 3, 2, 4, 7, 6, 5, 8, 9], [1, 3, 2, 4, 7, 6, 5, 8, 9], [1, 3, 2, 4, 7, 6, 5, 8, 9], [1, 3, 2, 4, 7, 6, 5, 8, 9], [1, 3, 2, 4, 7, 6, 5, 8, 9], [1, 3, 2, 4, 7, 6, 5, 8, 9], [1, 3, 2, 4, 7, 6, 5, 8, 9], [1, 3, 2, 4, 7, 6, 5, 8, 9], [1, 3, 2, 4, 7, 6, 5, 8, 9], [1, 3, 2, 4, 7, 6, 5, 8, 9], [1, 3, 2, 4, 7, 6, 5, 8, 9], [1, 3, 2, 4, 7, 6, 5, 8, 9], [1, 3, 2, 4, 7, 6, 5, 8, 9], [1, 3, 2, 4, 7, 6, 5, 8, 9], [1, 3, 2, 4, 7, 6, 5, 8, 9], [1, 3, 2, 4, 7, 6, 5, 8, 9], [1, 3, 2, 4, 7, 6, 5, 8, 9], [1, 3, 4, 2, 7, 5, 6, 8, 9], [1, 3, 4, 2, 7, 5, 6, 8, 9], [1, 3, 4, 2, 7, 5, 6, 8, 9], [1, 3, 4, 2, 7, 5, 6, 8, 9], [1, 3, 4, 2, 7, 5, 6, 8, 9], [1, 3, 4, 2, 7, 5, 6, 8, 9], [1, 3, 4, 2, 7, 5, 6, 8, 9], [1, 3, 4, 2, 7, 5, 6, 8, 9], [1, 3, 4, 2, 7, 5, 6, 8, 9], [1, 3, 4, 2, 7, 5, 6, 8, 9], [1, 3, 4, 2, 7, 5, 6, 8, 9], [1, 3, 4, 2, 7, 5, 6, 8, 9], [1, 3, 4, 2, 7, 5, 6, 8, 9], [1, 3, 4, 2, 7, 5, 6, 8, 9], [1, 3, 4, 2, 7, 5, 6, 8, 9], [1, 3, 4, 2, 7, 5, 6, 8, 9], [1, 3, 4, 2, 7, 5, 6, 8, 9], [1, 3, 4, 2, 7, 5, 6, 8, 9], [1, 3, 4, 2, 7, 5, 6, 8, 9], [1, 3, 4, 2, 7, 5, 6, 8, 9], [1, 3, 4, 2, 7, 5, 6, 8, 9], [1, 3, 4, 2, 7, 5, 6, 8, 9], [1, 3, 4, 2, 7, 5, 6, 8, 9], [1, 3, 4, 2, 7, 5, 6, 8, 9], [1, 3, 4, 2, 7, 5, 6, 8, 9], [1, 3, 4, 2, 7, 5, 6, 8, 9], [1, 3, 4, 2, 7, 5, 6, 8, 9], [1, 3, 4, 2, 7, 5, 6, 8, 9], [1, 3, 4, 2, 7, 5, 6, 8, 9], [1, 3, 4, 2, 7, 5, 6, 8, 9], [1, 3, 4, 2, 7, 5, 6, 8, 9], [1, 3, 4, 2, 7, 5, 6, 8, 9], [1, 3, 4, 2, 7, 5, 6, 8, 9], [1, 3, 4, 2, 7, 5, 6, 8, 9], [1, 3, 4, 2, 7, 5, 6, 8, 9], [1, 3, 4, 2, 7, 5, 6, 8, 9], [1, 3, 4, 2, 7, 5, 6, 8, 9], [1, 3, 4, 2, 7, 5, 6, 8, 9], [1, 3, 4, 2, 7, 5, 6, 8, 9], [1, 3, 4, 2, 7, 5, 6, 8, 9], [1, 3, 4, 2, 7, 5, 6, 8, 9], [1, 3, 4, 2, 7, 5, 6, 8, 9], [1, 3, 4, 2, 7, 5, 6, 8, 9], [1, 3, 4, 2, 7, 5, 6, 8, 9], [1, 3, 4, 2, 7, 5, 6, 8, 9], [1, 3, 4, 2, 7, 5, 6, 8, 9], [1, 3, 4, 2, 7, 5, 6, 8, 9], [1, 3, 4, 2, 7, 5, 6, 8, 9], [1, 3, 4, 2, 7, 5, 6, 8, 9], [1, 3, 4, 2, 7, 5, 6, 8, 9], [1, 3, 4, 2, 7, 5, 6, 8, 9], [1, 3, 4, 2, 7, 5, 6, 8, 9], [1, 3, 4, 2, 7, 5, 6, 8, 9], [1, 3, 4, 2, 7, 5, 6, 8, 9]]\n"
     ]
    },
    {
     "data": {
      "image/png": "[encoded data removed]",
      "text/plain": [
       "<Figure size 432x288 with 1 Axes>"
      ]
     },
     "metadata": {
      "needs_background": "light"
     },
     "output_type": "display_data"
    }
   ],
   "source": [
    "\n",
    "(solf,couti,cfinal,tabou) = algo_tabou()\n",
    "print(\"meilleur chemin trouvé: \", solf)\n",
    "print(\"coût trouvé: \",couti)\n",
    "print(\"tabou:\",tabou)\n",
    "\n",
    "plt.plot(cfinal)\n",
    "plt.title(\"Courbe de résultats de l'algorithme Tabou\")\n",
    "plt.xlabel(\"Nombre d'itérations\")\n",
    "plt.ylabel('Coût trouvé')\n",
    "plt.show()"
   ]
  },
  {
   "cell_type": "code",
   "execution_count": null,
   "metadata": {},
   "outputs": [],
   "source": []
  },
  {
   "cell_type": "code",
   "execution_count": null,
   "metadata": {},
   "outputs": [],
   "source": []
  },
  {
   "cell_type": "code",
   "execution_count": null,
   "metadata": {},
   "outputs": [],
   "source": []
  },
  {
   "cell_type": "code",
   "execution_count": null,
   "metadata": {},
   "outputs": [],
   "source": []
  }
 ],
 "metadata": {
  "colab": {
   "name": "Tabou.ipynb",
   "provenance": []
  },
  "kernelspec": {
   "display_name": "Python 3",
   "language": "python",
   "name": "python3"
  },
  "language_info": {
   "codemirror_mode": {
    "name": "ipython",
    "version": 3
   },
   "file_extension": ".py",
   "mimetype": "text/x-python",
   "name": "python",
   "nbconvert_exporter": "python",
   "pygments_lexer": "ipython3",
   "version": "3.8.8"
  },
  "papermill": {
   "default_parameters": {},
   "duration": 7.497455,
   "end_time": "2021-03-22T17:33:42.111184",
   "environment_variables": {},
   "exception": null,
   "input_path": "__notebook__.ipynb",
   "output_path": "__notebook__.ipynb",
   "parameters": {},
   "start_time": "2021-03-22T17:33:34.613729",
   "version": "2.2.2"
  }
 },
 "nbformat": 4,
 "nbformat_minor": 1
}
