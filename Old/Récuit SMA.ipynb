{
 "cells": [
  {
   "cell_type": "code",
   "execution_count": 1,
   "metadata": {},
   "outputs": [],
   "source": [
    "import numpy as np\n",
    "import pandas as pd\n",
    "import matplotlib.pyplot as plt\n",
    "import mesa\n",
    "import mesa.time\n",
    "\n",
    "class RecuitAgent(mesa.Agent):\n",
    "  def __init__(self,id, model):\n",
    "    super().__init__(id, model)\n",
    "    self.id = id         #id nécessaire ?\n",
    "    self.s_et=s  #solution actuelle\n",
    "    self.nb_iter =0  #nombre d'itérations\n",
    "    self.nv_cycle = True   #s'agit-il d'un nouveau cycle ou non\n",
    "    self.t=100   #température\n",
    "    self.cout = 0    #cout de la solution actuelle\n",
    "    self.a = 0.5\n",
    "    self.w = 100\n",
    "    \n",
    "  def step(self,s):\n",
    "    self.nb_iter=0\n",
    "    self.nv_cycle=False\n",
    "    while(nb_iter<nb_iter_cycle and t!=0):\n",
    "        self.nb_iter+=1\n",
    "        s1=N(s)\n",
    "        df=f(s1,self.w)-f(s,self.w)\n",
    "        if(df<0):\n",
    "            s=s1\n",
    "            self.nv_cycle=True\n",
    "        else:\n",
    "            prob=exp(-df/t)\n",
    "            q=rd.random()\n",
    "            if(q<prob):\n",
    "                s=s1\n",
    "                self.nv_cycle=True\n",
    "        if(f(s,self.w)<f(self.s_et,self.w)):\n",
    "            self.s_et=s\n",
    "    self.t*=a\n",
    "    self.cout = f(s_et,w)\n"
   ]
  },
  {
   "cell_type": "code",
   "execution_count": null,
   "metadata": {},
   "outputs": [],
   "source": []
  }
 ],
 "metadata": {
  "kernelspec": {
   "display_name": "Python 3",
   "language": "python",
   "name": "python3"
  },
  "language_info": {
   "codemirror_mode": {
    "name": "ipython",
    "version": 3
   },
   "file_extension": ".py",
   "mimetype": "text/x-python",
   "name": "python",
   "nbconvert_exporter": "python",
   "pygments_lexer": "ipython3",
   "version": "3.7.3"
  }
 },
 "nbformat": 4,
 "nbformat_minor": 2
}
