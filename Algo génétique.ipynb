{
 "cells": [
  {
   "cell_type": "code",
   "execution_count": 46,
   "id": "172bdac5",
   "metadata": {},
   "outputs": [],
   "source": [
    "#Paramètres du problème\n",
    "\n",
    "import numpy as np\n",
    "import matplotlib.pyplot as plt\n",
    "import itertools as it\n",
    "import math\n",
    "import random\n",
    "\n",
    "#nombre des clients\n",
    "n = 9\n",
    "\n",
    "#capacité du vehicule\n",
    "Q = 20\n",
    "\n",
    "#list des clients\n",
    "N = [i for i in range(1,n+1)]\n",
    "\n",
    "#nombre des villes (ou nombre des vertices)\n",
    "V=[0]+N\n",
    "\n",
    "#matrice coûts\n",
    "C = np.asarray([[0, 217, 690, 581, 749, 894, 1063, 938, 1065, 1000],\n",
    " [217, 0, 462, 409, 537, 677, 845, 711, 838, 773],\n",
    " [690, 462, 0, 254, 137, 537, 450, 251, 378, 313],   \n",
    " [581, 409, 254, 0, 215, 706, 698, 499, 626, 561],\n",
    " [749, 537, 137, 215, 0, 646, 559, 359, 487, 421],\n",
    " [894, 677, 537, 706, 646, 0, 206, 290, 469, 403],   \n",
    " [1063, 845, 450, 698, 559, 206, 0, 203, 382,317],   \n",
    " [938, 711, 251, 499, 359, 290, 203, 0, 187, 122],   \n",
    " [1065, 838, 378, 626, 487, 469, 382, 187, 0, 66],\n",
    " [1000, 773, 313, 561, 421, 403, 317, 122, 66, 0],   \n",
    "])\n",
    "\n",
    "#liste des demandes associée aux solutions [1,2,3,4,5,6,7,8,9]\n",
    "q=[2,5,5,5,5,5,5,5,10]"
   ]
  },
  {
   "cell_type": "markdown",
   "id": "21d14c3c",
   "metadata": {},
   "source": [
    "# List de demande\n",
    "\n",
    "* 0. Lille: dépôt\n",
    "* 1. Paris: 2\n",
    "* 2. Lyon:5\n",
    "* 3. Besançon: 5\n",
    "* 4. Annecy: 5\n",
    "* 5. Toulouse: 5\n",
    "* 6. Perpignan: 5\n",
    "* 7. Nîmes: 5\n",
    "* 8. Toulon: 5\n",
    "* 9. Marseille: 10"
   ]
  },
  {
   "cell_type": "code",
   "execution_count": 64,
   "id": "f3f8fbf7",
   "metadata": {
    "scrolled": false
   },
   "outputs": [
    {
     "name": "stdout",
     "output_type": "stream",
     "text": [
      "[[1, 3, 9, 4, 2, 7, 6, 5, 8], [8, 5, 9, 2, 1, 6, 3, 7, 4], [7, 4, 6, 3, 1, 2, 5, 9, 8], [5, 2, 7, 1, 8, 6, 4, 9, 3], [3, 8, 6, 2, 9, 5, 1, 7, 4], [8, 1, 7, 2, 6, 4, 5, 3, 9], [5, 6, 8, 1, 3, 2, 4, 9, 7], [4, 3, 6, 5, 8, 7, 9, 2, 1], [4, 2, 6, 1, 5, 9, 8, 7, 3], [9, 6, 5, 8, 2, 4, 3, 1, 7], [2, 6, 1, 8, 4, 7, 3, 5, 9], [7, 9, 4, 8, 2, 1, 3, 5, 6]]\n"
     ]
    }
   ],
   "source": [
    "#Génération de la population initiale\n",
    "\n",
    "#taille de la population\n",
    "k = 12\n",
    "\n",
    "#génération de solutions cohérentes selon les règles de demande etc\n",
    "def routes(solu, demande, capacite):\n",
    "    somme = 0\n",
    "    soluf = []\n",
    "    i = 0\n",
    "    for i in solu :\n",
    "        somme = somme + demande[i-1]\n",
    "        if somme <= capacite:\n",
    "            soluf.append(i)\n",
    "        else:\n",
    "            soluf.append(0)\n",
    "            somme = 0\n",
    "    if soluf[-1] != 0 :\n",
    "        soluf.append(0)\n",
    "    soluf.insert(0,0)\n",
    "    return(soluf)\n",
    "\n",
    "#génération des permutations permettant de créer la population lorsqu'on leur applique la fonction routes\n",
    "def generateur(clients, nbClients, taille) :\n",
    "    listePerm = []\n",
    "    count = 0\n",
    "    for i in range(k) :\n",
    "        listePerm.append(random.sample(clients,nbClients))\n",
    "    return(listePerm)\n",
    "\n",
    "print(generateur(N,n,k))"
   ]
  },
  {
   "cell_type": "code",
   "execution_count": 101,
   "id": "66896c1e",
   "metadata": {},
   "outputs": [
    {
     "name": "stdout",
     "output_type": "stream",
     "text": [
      "[5867, 6256, 5885, 5220, 4896, 5419, 6563, 6010, 5426, 5379, 6177, 5664]\n",
      "6 [4, 5, 1, 6, 2, 9, 7, 3, 8] [6, 7, 9, 4, 1, 3, 2, 5, 8] [4, 5, 1, 6, 2, 9, 2, 5, 8] [6, 7, 9, 4, 1, 3, 7, 3, 8]\n",
      "()\n"
     ]
    }
   ],
   "source": [
    "#Opérateurs sur les solutions\n",
    "\n",
    "#on suppose ici que le critère pertinent est le coût\n",
    "def calculCout(solu) :\n",
    "    cout = 0;\n",
    "    for i in range(len(solu)) :\n",
    "        if i < len(solu)-1 :\n",
    "            cc = C[solu[i], solu[i+1]]\n",
    "            cout = cout + cc\n",
    "    return(cout)\n",
    "\n",
    "#fonction calculant la valeur du critère (fitness) pour l'ensemble des solutions\n",
    "def coutsPopulation(population, demande, capacite) :\n",
    "    listeCouts = []\n",
    "    for i in population :\n",
    "        listeCouts.append(calculCout(routes(i, demande, capacite)))\n",
    "    return(listeCouts)\n",
    "    \n",
    "print(coutsPopulation(generateur(N,n,k),q,Q))\n",
    "\n",
    "#Opération de croisement à un point\n",
    "def croisement(solu1, solu2) :\n",
    "    s = len(solu1)\n",
    "    soluc1 = solu1.copy()\n",
    "    soluc2 = solu2.copy()\n",
    "    point = random.randint(0, s-1)\n",
    "    for i in range(point, s) :\n",
    "        soluc1[i], soluc2[i] = soluc2[i], soluc1[i]\n",
    "    print(point, solu1, solu2, soluc1, soluc2)\n",
    "    return()\n",
    "\n",
    "print(croisement(generateur(N,n,k)[1],generateur(N,n,k)[3]))\n",
    "\n",
    "#Opération de mutation"
   ]
  },
  {
   "cell_type": "code",
   "execution_count": 96,
   "id": "d5b524bf",
   "metadata": {},
   "outputs": [],
   "source": [
    "#Amélioration de la solution"
   ]
  }
 ],
 "metadata": {
  "kernelspec": {
   "display_name": "Python 3 (ipykernel)",
   "language": "python",
   "name": "python3"
  },
  "language_info": {
   "codemirror_mode": {
    "name": "ipython",
    "version": 3
   },
   "file_extension": ".py",
   "mimetype": "text/x-python",
   "name": "python",
   "nbconvert_exporter": "python",
   "pygments_lexer": "ipython3",
   "version": "3.9.7"
  }
 },
 "nbformat": 4,
 "nbformat_minor": 5
}
