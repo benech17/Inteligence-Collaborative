{
  "nbformat": 4,
  "nbformat_minor": 0,
  "metadata": {
    "colab": {
      "name": "Example_SMA.ipynb",
      "provenance": []
    },
    "kernelspec": {
      "name": "python3",
      "display_name": "Python 3"
    },
    "language_info": {
      "name": "python"
    }
  },
  "cells": [
    {
      "cell_type": "code",
      "source": [
        "!pip install mesa"
      ],
      "metadata": {
        "colab": {
          "base_uri": "https://localhost:8080/"
        },
        "id": "iyQIVuM7rFKC",
        "outputId": "7b49229d-a238-46fa-a75f-ca56740247f8"
      },
      "execution_count": null,
      "outputs": [
        {
          "output_type": "stream",
          "name": "stdout",
          "text": [
            "Collecting mesa\n",
            "  Downloading Mesa-0.9.0-py3-none-any.whl (691 kB)\n",
            "\u001b[?25l\r\u001b[K     |▌                               | 10 kB 18.3 MB/s eta 0:00:01\r\u001b[K     |█                               | 20 kB 6.2 MB/s eta 0:00:01\r\u001b[K     |█▍                              | 30 kB 4.4 MB/s eta 0:00:01\r\u001b[K     |██                              | 40 kB 3.7 MB/s eta 0:00:01\r\u001b[K     |██▍                             | 51 kB 3.9 MB/s eta 0:00:01\r\u001b[K     |██▉                             | 61 kB 4.6 MB/s eta 0:00:01\r\u001b[K     |███▎                            | 71 kB 4.7 MB/s eta 0:00:01\r\u001b[K     |███▉                            | 81 kB 5.0 MB/s eta 0:00:01\r\u001b[K     |████▎                           | 92 kB 5.6 MB/s eta 0:00:01\r\u001b[K     |████▊                           | 102 kB 5.4 MB/s eta 0:00:01\r\u001b[K     |█████▏                          | 112 kB 5.4 MB/s eta 0:00:01\r\u001b[K     |█████▊                          | 122 kB 5.4 MB/s eta 0:00:01\r\u001b[K     |██████▏                         | 133 kB 5.4 MB/s eta 0:00:01\r\u001b[K     |██████▋                         | 143 kB 5.4 MB/s eta 0:00:01\r\u001b[K     |███████                         | 153 kB 5.4 MB/s eta 0:00:01\r\u001b[K     |███████▋                        | 163 kB 5.4 MB/s eta 0:00:01\r\u001b[K     |████████                        | 174 kB 5.4 MB/s eta 0:00:01\r\u001b[K     |████████▌                       | 184 kB 5.4 MB/s eta 0:00:01\r\u001b[K     |█████████                       | 194 kB 5.4 MB/s eta 0:00:01\r\u001b[K     |█████████▌                      | 204 kB 5.4 MB/s eta 0:00:01\r\u001b[K     |██████████                      | 215 kB 5.4 MB/s eta 0:00:01\r\u001b[K     |██████████▍                     | 225 kB 5.4 MB/s eta 0:00:01\r\u001b[K     |███████████                     | 235 kB 5.4 MB/s eta 0:00:01\r\u001b[K     |███████████▍                    | 245 kB 5.4 MB/s eta 0:00:01\r\u001b[K     |███████████▉                    | 256 kB 5.4 MB/s eta 0:00:01\r\u001b[K     |████████████▎                   | 266 kB 5.4 MB/s eta 0:00:01\r\u001b[K     |████████████▉                   | 276 kB 5.4 MB/s eta 0:00:01\r\u001b[K     |█████████████▎                  | 286 kB 5.4 MB/s eta 0:00:01\r\u001b[K     |█████████████▊                  | 296 kB 5.4 MB/s eta 0:00:01\r\u001b[K     |██████████████▏                 | 307 kB 5.4 MB/s eta 0:00:01\r\u001b[K     |██████████████▊                 | 317 kB 5.4 MB/s eta 0:00:01\r\u001b[K     |███████████████▏                | 327 kB 5.4 MB/s eta 0:00:01\r\u001b[K     |███████████████▋                | 337 kB 5.4 MB/s eta 0:00:01\r\u001b[K     |████████████████                | 348 kB 5.4 MB/s eta 0:00:01\r\u001b[K     |████████████████▋               | 358 kB 5.4 MB/s eta 0:00:01\r\u001b[K     |█████████████████               | 368 kB 5.4 MB/s eta 0:00:01\r\u001b[K     |█████████████████▌              | 378 kB 5.4 MB/s eta 0:00:01\r\u001b[K     |██████████████████              | 389 kB 5.4 MB/s eta 0:00:01\r\u001b[K     |██████████████████▌             | 399 kB 5.4 MB/s eta 0:00:01\r\u001b[K     |███████████████████             | 409 kB 5.4 MB/s eta 0:00:01\r\u001b[K     |███████████████████▍            | 419 kB 5.4 MB/s eta 0:00:01\r\u001b[K     |████████████████████            | 430 kB 5.4 MB/s eta 0:00:01\r\u001b[K     |████████████████████▍           | 440 kB 5.4 MB/s eta 0:00:01\r\u001b[K     |████████████████████▉           | 450 kB 5.4 MB/s eta 0:00:01\r\u001b[K     |█████████████████████▎          | 460 kB 5.4 MB/s eta 0:00:01\r\u001b[K     |█████████████████████▉          | 471 kB 5.4 MB/s eta 0:00:01\r\u001b[K     |██████████████████████▎         | 481 kB 5.4 MB/s eta 0:00:01\r\u001b[K     |██████████████████████▊         | 491 kB 5.4 MB/s eta 0:00:01\r\u001b[K     |███████████████████████▏        | 501 kB 5.4 MB/s eta 0:00:01\r\u001b[K     |███████████████████████▊        | 512 kB 5.4 MB/s eta 0:00:01\r\u001b[K     |████████████████████████▏       | 522 kB 5.4 MB/s eta 0:00:01\r\u001b[K     |████████████████████████▋       | 532 kB 5.4 MB/s eta 0:00:01\r\u001b[K     |█████████████████████████       | 542 kB 5.4 MB/s eta 0:00:01\r\u001b[K     |█████████████████████████▋      | 552 kB 5.4 MB/s eta 0:00:01\r\u001b[K     |██████████████████████████      | 563 kB 5.4 MB/s eta 0:00:01\r\u001b[K     |██████████████████████████▌     | 573 kB 5.4 MB/s eta 0:00:01\r\u001b[K     |███████████████████████████     | 583 kB 5.4 MB/s eta 0:00:01\r\u001b[K     |███████████████████████████▌    | 593 kB 5.4 MB/s eta 0:00:01\r\u001b[K     |████████████████████████████    | 604 kB 5.4 MB/s eta 0:00:01\r\u001b[K     |████████████████████████████▍   | 614 kB 5.4 MB/s eta 0:00:01\r\u001b[K     |█████████████████████████████   | 624 kB 5.4 MB/s eta 0:00:01\r\u001b[K     |█████████████████████████████▍  | 634 kB 5.4 MB/s eta 0:00:01\r\u001b[K     |█████████████████████████████▉  | 645 kB 5.4 MB/s eta 0:00:01\r\u001b[K     |██████████████████████████████▎ | 655 kB 5.4 MB/s eta 0:00:01\r\u001b[K     |██████████████████████████████▉ | 665 kB 5.4 MB/s eta 0:00:01\r\u001b[K     |███████████████████████████████▎| 675 kB 5.4 MB/s eta 0:00:01\r\u001b[K     |███████████████████████████████▊| 686 kB 5.4 MB/s eta 0:00:01\r\u001b[K     |████████████████████████████████| 691 kB 5.4 MB/s \n",
            "\u001b[?25hRequirement already satisfied: tqdm in /usr/local/lib/python3.7/dist-packages (from mesa) (4.63.0)\n",
            "Requirement already satisfied: click in /usr/local/lib/python3.7/dist-packages (from mesa) (7.1.2)\n",
            "Collecting cookiecutter\n",
            "  Downloading cookiecutter-1.7.3-py2.py3-none-any.whl (34 kB)\n",
            "Requirement already satisfied: networkx in /usr/local/lib/python3.7/dist-packages (from mesa) (2.6.3)\n",
            "Requirement already satisfied: numpy in /usr/local/lib/python3.7/dist-packages (from mesa) (1.21.5)\n",
            "Requirement already satisfied: tornado in /usr/local/lib/python3.7/dist-packages (from mesa) (5.1.1)\n",
            "Requirement already satisfied: pandas in /usr/local/lib/python3.7/dist-packages (from mesa) (1.3.5)\n",
            "Requirement already satisfied: requests>=2.23.0 in /usr/local/lib/python3.7/dist-packages (from cookiecutter->mesa) (2.23.0)\n",
            "Requirement already satisfied: python-slugify>=4.0.0 in /usr/local/lib/python3.7/dist-packages (from cookiecutter->mesa) (6.1.1)\n",
            "Collecting jinja2-time>=0.2.0\n",
            "  Downloading jinja2_time-0.2.0-py2.py3-none-any.whl (6.4 kB)\n",
            "Collecting poyo>=0.5.0\n",
            "  Downloading poyo-0.5.0-py2.py3-none-any.whl (10 kB)\n",
            "Collecting binaryornot>=0.4.4\n",
            "  Downloading binaryornot-0.4.4-py2.py3-none-any.whl (9.0 kB)\n",
            "Requirement already satisfied: Jinja2<4.0.0,>=2.7 in /usr/local/lib/python3.7/dist-packages (from cookiecutter->mesa) (2.11.3)\n",
            "Requirement already satisfied: six>=1.10 in /usr/local/lib/python3.7/dist-packages (from cookiecutter->mesa) (1.15.0)\n",
            "Requirement already satisfied: chardet>=3.0.2 in /usr/local/lib/python3.7/dist-packages (from binaryornot>=0.4.4->cookiecutter->mesa) (3.0.4)\n",
            "Requirement already satisfied: MarkupSafe>=0.23 in /usr/local/lib/python3.7/dist-packages (from Jinja2<4.0.0,>=2.7->cookiecutter->mesa) (2.0.1)\n",
            "Collecting arrow\n",
            "  Downloading arrow-1.2.2-py3-none-any.whl (64 kB)\n",
            "\u001b[K     |████████████████████████████████| 64 kB 2.2 MB/s \n",
            "\u001b[?25hRequirement already satisfied: text-unidecode>=1.3 in /usr/local/lib/python3.7/dist-packages (from python-slugify>=4.0.0->cookiecutter->mesa) (1.3)\n",
            "Requirement already satisfied: certifi>=2017.4.17 in /usr/local/lib/python3.7/dist-packages (from requests>=2.23.0->cookiecutter->mesa) (2021.10.8)\n",
            "Requirement already satisfied: urllib3!=1.25.0,!=1.25.1,<1.26,>=1.21.1 in /usr/local/lib/python3.7/dist-packages (from requests>=2.23.0->cookiecutter->mesa) (1.24.3)\n",
            "Requirement already satisfied: idna<3,>=2.5 in /usr/local/lib/python3.7/dist-packages (from requests>=2.23.0->cookiecutter->mesa) (2.10)\n",
            "Requirement already satisfied: python-dateutil>=2.7.0 in /usr/local/lib/python3.7/dist-packages (from arrow->jinja2-time>=0.2.0->cookiecutter->mesa) (2.8.2)\n",
            "Requirement already satisfied: typing-extensions in /usr/local/lib/python3.7/dist-packages (from arrow->jinja2-time>=0.2.0->cookiecutter->mesa) (3.10.0.2)\n",
            "Requirement already satisfied: pytz>=2017.3 in /usr/local/lib/python3.7/dist-packages (from pandas->mesa) (2018.9)\n",
            "Installing collected packages: arrow, poyo, jinja2-time, binaryornot, cookiecutter, mesa\n",
            "Successfully installed arrow-1.2.2 binaryornot-0.4.4 cookiecutter-1.7.3 jinja2-time-0.2.0 mesa-0.9.0 poyo-0.5.0\n"
          ]
        }
      ]
    },
    {
      "cell_type": "code",
      "source": [
        "import numpy as np\n",
        "import pandas as pd\n",
        "import matplotlib.pyplot as plt\n",
        "import mesa\n",
        "import mesa.time\n",
        "\n",
        "class TabooAgent(mesa.Agent):\n",
        "  def __init__(self,id, model):\n",
        "    super().__init__(id, model)\n",
        "    self.id = id\n",
        "    self.s = 0\n",
        "  def step(self):\n",
        "    print(\"C'est le step\",self.s,\"du agent\",self.id)\n",
        "    self.s+=1\n",
        "\n",
        "class GlobalMASModel(mesa.Model):\n",
        "  def __init__(self, N):\n",
        "    # RandomActivation va randomizer la ordre des step de chaque agent\n",
        "    self.schedule = mesa.time.RandomActivation(self)\n",
        "    # Initializer N agents, n'oublier pas d'envoyer le model\n",
        "    for i in range(N):\n",
        "      self.schedule.add(TabooAgent(i,self))\n",
        "  def step(self):\n",
        "    self.schedule.step()\n",
        "    print(\"------\")\n",
        "\n",
        "model = GlobalMASModel(3)\n",
        "model.step()\n",
        "model.step()\n",
        "model.step()\n",
        "model.step()"
      ],
      "metadata": {
        "colab": {
          "base_uri": "https://localhost:8080/"
        },
        "id": "e0MjtsxOpszg",
        "outputId": "c157faa7-baec-4973-f31d-ec67fbfce89c"
      },
      "execution_count": null,
      "outputs": [
        {
          "output_type": "stream",
          "name": "stdout",
          "text": [
            "C'est le step 0 du agent 2\n",
            "C'est le step 0 du agent 0\n",
            "C'est le step 0 du agent 1\n",
            "------\n",
            "C'est le step 1 du agent 0\n",
            "C'est le step 1 du agent 2\n",
            "C'est le step 1 du agent 1\n",
            "------\n",
            "C'est le step 2 du agent 0\n",
            "C'est le step 2 du agent 2\n",
            "C'est le step 2 du agent 1\n",
            "------\n",
            "C'est le step 3 du agent 0\n",
            "C'est le step 3 du agent 2\n",
            "C'est le step 3 du agent 1\n",
            "------\n"
          ]
        }
      ]
    },
    {
      "cell_type": "code",
      "source": [
        "# Version pour montrer une algo de ordonnacement#\n",
        "# L'important c'est de comprend qui chaque step le agent va faire 1 action\n",
        "\n",
        "class OrdAgent(mesa.Agent):\n",
        "  def __init__(self,id, M, model):\n",
        "    super().__init__(id, model)\n",
        "    self.M = M.copy()\n",
        "    # Liste final ordonée\n",
        "    self.final = []\n",
        "  def step(self):\n",
        "    # EVERY STEP DOES SOMETHING\n",
        "    if len(self.M):\n",
        "      # If M exists, he organizes the list in crescent order\n",
        "      m = min(self.M)\n",
        "      self.M.remove(m)\n",
        "      self.final.append(m)\n",
        "      print(self.final, self.M)\n",
        "\n",
        "class GlobalORDModel(mesa.Model):\n",
        "  def __init__(self, M):\n",
        "    # RandomActivation va randomizer la ordre des step de chaque agent\n",
        "    self.schedule = mesa.time.RandomActivation(self)\n",
        "    # Initializer N agents, n'oublier pas d'envoyer le model\n",
        "    self.schedule.add(OrdAgent(0,M,self))\n",
        "    self.s =0\n",
        "  def step(self):\n",
        "    print(\"step \",self.s, end=\" \")\n",
        "    self.s+=1\n",
        "    self.schedule.step()\n",
        "\n",
        "# On va ordonner ce liste\n",
        "M = [1, 7, 8, 6, 9, 5, 3, 4, 2, 0]\n",
        "model = GlobalORDModel(M)\n",
        "\n",
        "# Does more steps than it needs\n",
        "for i in range(20):\n",
        "  model.step()"
      ],
      "metadata": {
        "colab": {
          "base_uri": "https://localhost:8080/"
        },
        "id": "2aaFx4H20JAC",
        "outputId": "81794a04-5186-4bf8-c725-3836ede34e69"
      },
      "execution_count": null,
      "outputs": [
        {
          "output_type": "stream",
          "name": "stdout",
          "text": [
            "step  0 [0] [1, 7, 8, 6, 9, 5, 3, 4, 2]\n",
            "step  1 [0, 1] [7, 8, 6, 9, 5, 3, 4, 2]\n",
            "step  2 [0, 1, 2] [7, 8, 6, 9, 5, 3, 4]\n",
            "step  3 [0, 1, 2, 3] [7, 8, 6, 9, 5, 4]\n",
            "step  4 [0, 1, 2, 3, 4] [7, 8, 6, 9, 5]\n",
            "step  5 [0, 1, 2, 3, 4, 5] [7, 8, 6, 9]\n",
            "step  6 [0, 1, 2, 3, 4, 5, 6] [7, 8, 9]\n",
            "step  7 [0, 1, 2, 3, 4, 5, 6, 7] [8, 9]\n",
            "step  8 [0, 1, 2, 3, 4, 5, 6, 7, 8] [9]\n",
            "step  9 [0, 1, 2, 3, 4, 5, 6, 7, 8, 9] []\n",
            "step  10 step  11 step  12 step  13 step  14 step  15 step  16 step  17 step  18 step  19 "
          ]
        }
      ]
    }
  ]
}