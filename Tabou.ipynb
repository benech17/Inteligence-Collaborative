{
  "cells": [
    {
      "cell_type": "code",
      "execution_count": 1,
      "metadata": {
        "execution": {
          "iopub.execute_input": "2021-03-22T17:33:40.866493Z",
          "iopub.status.busy": "2021-03-22T17:33:40.865558Z",
          "iopub.status.idle": "2021-03-22T17:33:40.869347Z",
          "shell.execute_reply": "2021-03-22T17:33:40.868622Z"
        },
        "papermill": {
          "duration": 0.020688,
          "end_time": "2021-03-22T17:33:40.869560",
          "exception": false,
          "start_time": "2021-03-22T17:33:40.848872",
          "status": "completed"
        },
        "tags": [],
        "id": "ePWIqkqfxuRM"
      },
      "outputs": [],
      "source": [
        "import numpy as np\n",
        "import matplotlib.pyplot as plt\n",
        "import itertools as it\n",
        "import math\n",
        "\n",
        "#nombre des clients\n",
        "n = 9\n",
        "\n",
        "#capacité du vehicule\n",
        "Q = 20\n",
        "\n",
        "#list des clients\n",
        "N = [i for i in range(1,n+1)]\n",
        "\n",
        "#nombre des villes (ou nombre des vertices)\n",
        "V=[0]+N\n",
        "\n",
        "#matrice coûts\n",
        "\n",
        "C = np.asarray([[0, 217, 690, 581, 749, 894, 1063, 938, 1065, 1000],\n",
        " [217, 0, 462, 409, 537, 677, 845, 711, 838, 773],\n",
        " [690, 462, 0, 254, 137, 537, 450, 251, 378, 313],   \n",
        " [581, 409, 254, 0, 215, 706, 698, 499, 626, 561],\n",
        " [749, 537, 137, 215, 0, 646, 559, 359, 487, 421],\n",
        " [894, 677, 537, 706, 646, 0, 206, 290, 469, 403],   \n",
        " [1063, 845, 450, 698, 559, 206, 0, 203, 382,317],   \n",
        " [938, 711, 251, 499, 359, 290, 203, 0, 187, 122],   \n",
        " [1065, 838, 378, 626, 487, 469, 382, 187, 0, 66],\n",
        " [1000, 773, 313, 561, 421, 403, 317, 122, 66, 0],   \n",
        "])"
      ]
    },
    {
      "cell_type": "markdown",
      "metadata": {
        "papermill": {
          "duration": 0.010596,
          "end_time": "2021-03-22T17:33:40.925383",
          "exception": false,
          "start_time": "2021-03-22T17:33:40.914787",
          "status": "completed"
        },
        "tags": [],
        "id": "reZ2VmNbxuRW"
      },
      "source": [
        "# List de demande\n",
        "\n",
        "* 0. Lille: dépôt\n",
        "* 1. Paris: 2\n",
        "* 2. Lyon:5\n",
        "* 3. Besançon: 5\n",
        "* 4. Annecy: 5\n",
        "* 5. Toulouse: 5\n",
        "* 6. Perpignan: 5\n",
        "* 7. Nîmes: 5\n",
        "* 8. Toulon: 5\n",
        "* 9. Marseille: 10"
      ]
    },
    {
      "cell_type": "markdown",
      "metadata": {
        "papermill": {
          "duration": 0.010682,
          "end_time": "2021-03-22T17:33:40.978020",
          "exception": false,
          "start_time": "2021-03-22T17:33:40.967338",
          "status": "completed"
        },
        "tags": [],
        "id": "UIU5rpEIxuRZ"
      },
      "source": [
        "**Fonctionnes**"
      ]
    },
    {
      "cell_type": "code",
      "execution_count": 2,
      "metadata": {
        "execution": {
          "iopub.execute_input": "2021-03-22T17:33:41.008681Z",
          "iopub.status.busy": "2021-03-22T17:33:41.008008Z",
          "iopub.status.idle": "2021-03-22T17:33:41.010319Z",
          "shell.execute_reply": "2021-03-22T17:33:41.010804Z"
        },
        "papermill": {
          "duration": 0.019711,
          "end_time": "2021-03-22T17:33:41.011011",
          "exception": false,
          "start_time": "2021-03-22T17:33:40.991300",
          "status": "completed"
        },
        "tags": [],
        "id": "cHHrv4K2xuRa"
      },
      "outputs": [],
      "source": [
        "#list de demande\n",
        "q=[2,5,5,5,5,5,5,5,10]\n",
        "\n",
        "#demande ordenée parmi les solutions\n",
        "\n",
        "def ordre(solu,demande):\n",
        "    newq=[];\n",
        "    newq.clear();\n",
        "    for i in range(len(solu)):\n",
        "        for j in range(len(demande)):\n",
        "            if j+1==solu[i]:\n",
        "                newq.append(demande[j])\n",
        "    return newq\n",
        "\n",
        "#definir les routes\n",
        "\n",
        "def routes(solu,dmd):\n",
        "    soma=0;\n",
        "    tabu=[];\n",
        "    R=len(solu)\n",
        "    i=0\n",
        "    while i<R:\n",
        "        soma=soma+dmd[i]\n",
        "        if soma<=Q:\n",
        "            tabu.append(solu[i])\n",
        "            i=i+1\n",
        "        else:\n",
        "            tabu.append(0)\n",
        "            soma=0\n",
        "    tabu.append(0)\n",
        "    tabu.insert(0,0)\n",
        "    return tabu\n",
        "\n",
        "#Calcul des couts\n",
        "\n",
        "def couts(solu):\n",
        "    cout=0;\n",
        "    for i in range(len(solu)):\n",
        "        if i<len(solu)-1:\n",
        "            cc=C[solu[i],solu[i+1]]\n",
        "            cout=cout+cc\n",
        "    return cout\n",
        "\n",
        "coutf=100000000000001 #cout final initial\n",
        "ite=0; #compte du nombre d'iterations\n",
        "cfinal=[]\n",
        "\n",
        "for i in it.permutations(N,n):\n",
        "    if ite==1000:\n",
        "        break\n",
        "    else:\n",
        "        soli = i          #solution initial\n",
        "        demandf = ordre(soli,q)\n",
        "        sol = routes(soli,demandf)\n",
        "        couti = couts(sol)\n",
        "        #print(\"Solution initial : \", sol)\n",
        "        #print(\"Demande de chaque arrêt : \", demandf)\n",
        "        #print(\"Coût total de cette solution: \", couti)\n",
        "        #print(\"\\n\")\n",
        "        cfinal.append(couti)\n",
        "        ite=ite+1;\n",
        "        if couti<coutf:\n",
        "            coutf=couti   #cout final\n",
        "            solf=sol      #solution finale"
      ]
    },
    {
      "cell_type": "code",
      "execution_count": 3,
      "metadata": {
        "execution": {
          "iopub.execute_input": "2021-03-22T17:33:41.036129Z",
          "iopub.status.busy": "2021-03-22T17:33:41.035366Z",
          "iopub.status.idle": "2021-03-22T17:33:41.042385Z",
          "shell.execute_reply": "2021-03-22T17:33:41.041810Z"
        },
        "papermill": {
          "duration": 0.020412,
          "end_time": "2021-03-22T17:33:41.042540",
          "exception": false,
          "start_time": "2021-03-22T17:33:41.022128",
          "status": "completed"
        },
        "tags": [],
        "id": "2ubsAsoFxuRb",
        "colab": {
          "base_uri": "https://localhost:8080/",
          "height": 347
        },
        "outputId": "f1a67c6b-f18c-4c43-81c8-d831f583135a"
      },
      "outputs": [
        {
          "output_type": "stream",
          "name": "stdout",
          "text": [
            "mieux chemin trouvé:  [0, 1, 2, 4, 3, 0, 7, 8, 9, 0, 5, 6, 0]\n",
            "coût trouvé:  5966\n",
            "nombre des vehicules:  3\n"
          ]
        },
        {
          "output_type": "display_data",
          "data": {
            "text/plain": [
              "<Figure size 432x288 with 1 Axes>"
            ],
            "image/png": "[encoded data removed]"
          },
          "metadata": {
            "needs_background": "light"
          }
        }
      ],
      "source": [
        "aux=solf.count(0)\n",
        "aux=aux-1\n",
        "\n",
        "print(\"mieux chemin trouvé: \", solf)\n",
        "print(\"coût trouvé: \",coutf)\n",
        "print(\"nombre des vehicules: \", aux)\n",
        "\n",
        "plt.plot(cfinal)\n",
        "plt.title(\"Courbe de résultats de l'algorithme Tabou\")\n",
        "plt.xlabel(\"Nombre d'itérations\")\n",
        "plt.ylabel('Coût trouvé')\n",
        "plt.show()"
      ]
    }
  ],
  "metadata": {
    "kernelspec": {
      "display_name": "Python 3",
      "language": "python",
      "name": "python3"
    },
    "language_info": {
      "codemirror_mode": {
        "name": "ipython",
        "version": 3
      },
      "file_extension": ".py",
      "mimetype": "text/x-python",
      "name": "python",
      "nbconvert_exporter": "python",
      "pygments_lexer": "ipython3",
      "version": "3.7.9"
    },
    "papermill": {
      "default_parameters": {},
      "duration": 7.497455,
      "end_time": "2021-03-22T17:33:42.111184",
      "environment_variables": {},
      "exception": null,
      "input_path": "__notebook__.ipynb",
      "output_path": "__notebook__.ipynb",
      "parameters": {},
      "start_time": "2021-03-22T17:33:34.613729",
      "version": "2.2.2"
    },
    "colab": {
      "name": "Tabou.ipynb",
      "provenance": []
    }
  },
  "nbformat": 4,
  "nbformat_minor": 0
}